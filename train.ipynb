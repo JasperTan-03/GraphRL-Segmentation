{
 "cells": [
  {
   "cell_type": "code",
   "execution_count": 1,
   "metadata": {},
   "outputs": [
    {
     "name": "stderr",
     "output_type": "stream",
     "text": [
      "/home/haakon/mambaforge/envs/maps/lib/python3.10/site-packages/tqdm/auto.py:21: TqdmWarning: IProgress not found. Please update jupyter and ipywidgets. See https://ipywidgets.readthedocs.io/en/stable/user_install.html\n",
      "  from .autonotebook import tqdm as notebook_tqdm\n"
     ]
    }
   ],
   "source": [
    "from GraphDQNAgent import GraphDQNAgent\n",
    "from rl_environment import GraphSegmentationEnv\n",
    "import torch"
   ]
  },
  {
   "cell_type": "code",
   "execution_count": 2,
   "metadata": {},
   "outputs": [
    {
     "name": "stderr",
     "output_type": "stream",
     "text": [
      "/tmp/ipykernel_403753/1818361586.py:1: FutureWarning: You are using `torch.load` with `weights_only=False` (the current default value), which uses the default pickle module implicitly. It is possible to construct malicious pickle data which will execute arbitrary code during unpickling (See https://github.com/pytorch/pytorch/blob/main/SECURITY.md#untrusted-models for more details). In a future release, the default value for `weights_only` will be flipped to `True`. This limits the functions that could be executed during unpickling. Arbitrary objects will no longer be allowed to be loaded via this mode unless they are explicitly allowlisted by the user via `torch.serialization.add_safe_globals`. We recommend you start setting `weights_only=True` for any use case where you don't have full control of the loaded file. Please open an issue on GitHub for any issues related to this experimental feature.\n",
      "  graph = torch.load(\"data/aachen_graphs/aachen_000000_000019.pt\")\n"
     ]
    }
   ],
   "source": [
    "graph = torch.load(\"data/aachen_graphs/aachen_000000_000019.pt\")\n",
    "num_classes = 34"
   ]
  },
  {
   "cell_type": "code",
   "execution_count": 3,
   "metadata": {},
   "outputs": [
    {
     "name": "stderr",
     "output_type": "stream",
     "text": [
      "\u001b[34m\u001b[1mwandb\u001b[0m: Using wandb-core as the SDK backend. Please refer to https://wandb.me/wandb-core for more information.\n",
      "\u001b[34m\u001b[1mwandb\u001b[0m: Currently logged in as: \u001b[33mhaakonmongstad\u001b[0m (\u001b[33mhaakon-dev\u001b[0m). Use \u001b[1m`wandb login --relogin`\u001b[0m to force relogin\n"
     ]
    },
    {
     "data": {
      "text/html": [
       "Tracking run with wandb version 0.18.5"
      ],
      "text/plain": [
       "<IPython.core.display.HTML object>"
      ]
     },
     "metadata": {},
     "output_type": "display_data"
    },
    {
     "data": {
      "text/html": [
       "Run data is saved locally in <code>/home/haakon/programs/mlrwn/MAPS/wandb/run-20241118_022050-7ewqcxz9</code>"
      ],
      "text/plain": [
       "<IPython.core.display.HTML object>"
      ]
     },
     "metadata": {},
     "output_type": "display_data"
    },
    {
     "data": {
      "text/html": [
       "Syncing run <strong><a href='https://wandb.ai/haakon-dev/graph-dqn-segmentation/runs/7ewqcxz9' target=\"_blank\">gcn-dqn 2d</a></strong> to <a href='https://wandb.ai/haakon-dev/graph-dqn-segmentation' target=\"_blank\">Weights & Biases</a> (<a href='https://wandb.me/run' target=\"_blank\">docs</a>)<br/>"
      ],
      "text/plain": [
       "<IPython.core.display.HTML object>"
      ]
     },
     "metadata": {},
     "output_type": "display_data"
    },
    {
     "data": {
      "text/html": [
       " View project at <a href='https://wandb.ai/haakon-dev/graph-dqn-segmentation' target=\"_blank\">https://wandb.ai/haakon-dev/graph-dqn-segmentation</a>"
      ],
      "text/plain": [
       "<IPython.core.display.HTML object>"
      ]
     },
     "metadata": {},
     "output_type": "display_data"
    },
    {
     "data": {
      "text/html": [
       " View run at <a href='https://wandb.ai/haakon-dev/graph-dqn-segmentation/runs/7ewqcxz9' target=\"_blank\">https://wandb.ai/haakon-dev/graph-dqn-segmentation/runs/7ewqcxz9</a>"
      ],
      "text/plain": [
       "<IPython.core.display.HTML object>"
      ]
     },
     "metadata": {},
     "output_type": "display_data"
    }
   ],
   "source": [
    "# create an agent\n",
    "\"\"\"        self,\n",
    "        node_feature_dim: int,\n",
    "        gnn_hidden_dim: int,\n",
    "        gnn_output_dim: int,\n",
    "        dqn_hidden_dim: int,\n",
    "        num_classes: int,\n",
    "        device: str = \"cuda\" if torch.cuda.is_available() else \"cpu\",\n",
    "        \"\"\"\n",
    "\n",
    "agent = GraphDQNAgent(graph.x.size(-1), 64, 64, 64, num_classes)\n",
    "env = GraphSegmentationEnv(graph, num_classes)"
   ]
  },
  {
   "cell_type": "code",
   "execution_count": null,
   "metadata": {},
   "outputs": [
    {
     "name": "stderr",
     "output_type": "stream",
     "text": [
      "/home/haakon/programs/mlrwn/MAPS/GraphDQNAgent.py:194: FutureWarning: You are using `torch.load` with `weights_only=False` (the current default value), which uses the default pickle module implicitly. It is possible to construct malicious pickle data which will execute arbitrary code during unpickling (See https://github.com/pytorch/pytorch/blob/main/SECURITY.md#untrusted-models for more details). In a future release, the default value for `weights_only` will be flipped to `True`. This limits the functions that could be executed during unpickling. Arbitrary objects will no longer be allowed to be loaded via this mode unless they are explicitly allowlisted by the user via `torch.serialization.add_safe_globals`. We recommend you start setting `weights_only=True` for any use case where you don't have full control of the loaded file. Please open an issue on GitHub for any issues related to this experimental feature.\n",
      "  graph = torch.load(f\"{train_dir}/{files[i]}\")\n",
      "/home/haakon/mambaforge/envs/maps/lib/python3.10/site-packages/pandas/core/computation/expressions.py:21: UserWarning: Pandas requires version '2.8.4' or newer of 'numexpr' (version '2.7.3' currently installed).\n",
      "  from pandas.core.computation.check import NUMEXPR_INSTALLED\n",
      "/home/haakon/programs/mlrwn/MAPS/GraphDQNAgent.py:194: FutureWarning: You are using `torch.load` with `weights_only=False` (the current default value), which uses the default pickle module implicitly. It is possible to construct malicious pickle data which will execute arbitrary code during unpickling (See https://github.com/pytorch/pytorch/blob/main/SECURITY.md#untrusted-models for more details). In a future release, the default value for `weights_only` will be flipped to `True`. This limits the functions that could be executed during unpickling. Arbitrary objects will no longer be allowed to be loaded via this mode unless they are explicitly allowlisted by the user via `torch.serialization.add_safe_globals`. We recommend you start setting `weights_only=True` for any use case where you don't have full control of the loaded file. Please open an issue on GitHub for any issues related to this experimental feature.\n",
      "  graph = torch.load(f\"{train_dir}/{files[i]}\")\n"
     ]
    },
    {
     "data": {
      "text/html": [
       "<style>\n",
       "    table.wandb td:nth-child(1) { padding: 0 10px; text-align: left ; width: auto;} td:nth-child(2) {text-align: left ; width: 100%}\n",
       "    .wandb-row { display: flex; flex-direction: row; flex-wrap: wrap; justify-content: flex-start; width: 100% }\n",
       "    .wandb-col { display: flex; flex-direction: column; flex-basis: 100%; flex: 1; padding: 10px; }\n",
       "    </style>\n",
       "<div class=\"wandb-row\"><div class=\"wandb-col\"><h3>Run history:</h3><br/><table class=\"wandb\"><tr><td>classification_loss</td><td>▁▁▁▁▁▁▁▁▁▁▁▁▁▂▁▁▁▁▁▁▅▁▁▂▁█▁▁▁▇▁▁▇▁▁▁▁▂▃▁</td></tr><tr><td>classification_reward</td><td>███████████▁████████▁████████████████▁██</td></tr><tr><td>episode</td><td>▁▁▂▂▂▃▃▄▄▄▅▅▅▆▆▇▇▇██</td></tr><tr><td>episode_classification_reward</td><td>▆█▇▇▇▅▅▅▆▇█▆▇▁▆▅▆▆█▆</td></tr><tr><td>episode_navigation_reward</td><td>▁▁▁▁▁▁▁▁▁▁▁▁▁▁▁▁▁▁▁▁</td></tr><tr><td>episode_total_reward</td><td>▆█▇▇▇▅▅▅▆▇█▆▇▁▆▅▆▆█▆</td></tr><tr><td>epsilon</td><td>▁▁▁▁▁▁▁▁▁▁▁▁▁▁▁▁▁▁▁▁▁▁▁▁▁▁▁▁▁▁▁▁▁▁▁▁▁▁▁▁</td></tr><tr><td>navigation_loss</td><td>▁▁▅▁▁▁▄▁▁▁▁▁▁▁▁▁▁▁▁▁▁▁▁▁▁▁▁▁██▁▁▁▁▁▁▁▁▁▁</td></tr><tr><td>navigation_reward</td><td>▁▁▁▁▁▁▁▁▁▁▁▁▁▁▁▁▁▁▁▁▁▁▁▁▁▁▁▁▁▁▁▁▁▁▁▁▁▁▁▁</td></tr><tr><td>step</td><td>▁▁▁▁▁▂▂▂▂▂▃▃▃▃▃▄▄▄▄▄▅▅▅▅▅▆▆▆▆▆▆▆▇▇▇▇████</td></tr><tr><td>total_loss</td><td>▁▁▁▁▅▁▁▁▁▁▁▃▁▁▁▁█▁▂▁▁▁▂▁▁▁▁█▃█▂▁▁▅▁▁▁▁▁▁</td></tr><tr><td>total_reward</td><td>▁███████████████████████████▁██▁█▁▁█████</td></tr></table><br/></div><div class=\"wandb-col\"><h3>Run summary:</h3><br/><table class=\"wandb\"><tr><td>classification_loss</td><td>0.00012</td></tr><tr><td>classification_reward</td><td>1</td></tr><tr><td>episode</td><td>19</td></tr><tr><td>episode_classification_reward</td><td>7790</td></tr><tr><td>episode_navigation_reward</td><td>0</td></tr><tr><td>episode_total_reward</td><td>7790</td></tr><tr><td>epsilon</td><td>0.01</td></tr><tr><td>navigation_loss</td><td>0.12501</td></tr><tr><td>navigation_reward</td><td>0</td></tr><tr><td>step</td><td>199999</td></tr><tr><td>total_loss</td><td>0.12513</td></tr><tr><td>total_reward</td><td>1</td></tr></table><br/></div></div>"
      ],
      "text/plain": [
       "<IPython.core.display.HTML object>"
      ]
     },
     "metadata": {},
     "output_type": "display_data"
    },
    {
     "data": {
      "text/html": [
       " View run <strong style=\"color:#cdcd00\">gcn-dqn 2d</strong> at: <a href='https://wandb.ai/haakon-dev/graph-dqn-segmentation/runs/7ewqcxz9' target=\"_blank\">https://wandb.ai/haakon-dev/graph-dqn-segmentation/runs/7ewqcxz9</a><br/> View project at: <a href='https://wandb.ai/haakon-dev/graph-dqn-segmentation' target=\"_blank\">https://wandb.ai/haakon-dev/graph-dqn-segmentation</a><br/>Synced 5 W&B file(s), 0 media file(s), 2 artifact file(s) and 0 other file(s)"
      ],
      "text/plain": [
       "<IPython.core.display.HTML object>"
      ]
     },
     "metadata": {},
     "output_type": "display_data"
    },
    {
     "data": {
      "text/html": [
       "Find logs at: <code>./wandb/run-20241118_022050-7ewqcxz9/logs</code>"
      ],
      "text/plain": [
       "<IPython.core.display.HTML object>"
      ]
     },
     "metadata": {},
     "output_type": "display_data"
    },
    {
     "data": {
      "text/plain": [
       "([tensor(7854., device='cuda:0'),\n",
       "  tensor(9376., device='cuda:0'),\n",
       "  tensor(8358., device='cuda:0'),\n",
       "  tensor(8808., device='cuda:0'),\n",
       "  tensor(8682., device='cuda:0'),\n",
       "  tensor(6960., device='cuda:0'),\n",
       "  tensor(7196., device='cuda:0'),\n",
       "  tensor(7046., device='cuda:0'),\n",
       "  tensor(7850., device='cuda:0'),\n",
       "  tensor(8780., device='cuda:0'),\n",
       "  tensor(9126., device='cuda:0'),\n",
       "  tensor(7980., device='cuda:0'),\n",
       "  tensor(8476., device='cuda:0'),\n",
       "  tensor(3356., device='cuda:0'),\n",
       "  tensor(7732., device='cuda:0'),\n",
       "  tensor(6866., device='cuda:0'),\n",
       "  tensor(8004., device='cuda:0'),\n",
       "  tensor(8082., device='cuda:0'),\n",
       "  tensor(9246., device='cuda:0'),\n",
       "  tensor(7790., device='cuda:0')],\n",
       " [tensor(0., device='cuda:0'),\n",
       "  tensor(0., device='cuda:0'),\n",
       "  tensor(0., device='cuda:0'),\n",
       "  tensor(0., device='cuda:0'),\n",
       "  tensor(0., device='cuda:0'),\n",
       "  tensor(0., device='cuda:0'),\n",
       "  tensor(0., device='cuda:0'),\n",
       "  tensor(0., device='cuda:0'),\n",
       "  tensor(0., device='cuda:0'),\n",
       "  tensor(0., device='cuda:0'),\n",
       "  tensor(0., device='cuda:0'),\n",
       "  tensor(0., device='cuda:0'),\n",
       "  tensor(0., device='cuda:0'),\n",
       "  tensor(0., device='cuda:0'),\n",
       "  tensor(0., device='cuda:0'),\n",
       "  tensor(0., device='cuda:0'),\n",
       "  tensor(0., device='cuda:0'),\n",
       "  tensor(0., device='cuda:0'),\n",
       "  tensor(0., device='cuda:0'),\n",
       "  tensor(0., device='cuda:0')])"
      ]
     },
     "execution_count": 4,
     "metadata": {},
     "output_type": "execute_result"
    }
   ],
   "source": [
    "agent.train(env, num_episodes=2, max_steps=1000000)"
   ]
  },
  {
   "cell_type": "code",
   "execution_count": 5,
   "metadata": {},
   "outputs": [
    {
     "name": "stderr",
     "output_type": "stream",
     "text": [
      "/tmp/ipykernel_403753/1071605764.py:1: FutureWarning: You are using `torch.load` with `weights_only=False` (the current default value), which uses the default pickle module implicitly. It is possible to construct malicious pickle data which will execute arbitrary code during unpickling (See https://github.com/pytorch/pytorch/blob/main/SECURITY.md#untrusted-models for more details). In a future release, the default value for `weights_only` will be flipped to `True`. This limits the functions that could be executed during unpickling. Arbitrary objects will no longer be allowed to be loaded via this mode unless they are explicitly allowlisted by the user via `torch.serialization.add_safe_globals`. We recommend you start setting `weights_only=True` for any use case where you don't have full control of the loaded file. Please open an issue on GitHub for any issues related to this experimental feature.\n",
      "  graph = torch.load(\"data/aachen_graphs/aachen_000000_000019.pt\")\n"
     ]
    }
   ],
   "source": [
    "graph = torch.load(\"data/aachen_graphs/aachen_000000_000019.pt\")"
   ]
  },
  {
   "cell_type": "code",
   "execution_count": 7,
   "metadata": {},
   "outputs": [],
   "source": [
    "import PIL.Image\n",
    "\n",
    "image = PIL.Image.open(\"data/aachen_raw/aachen_000000_000019_leftImg8bit.png\")\n",
    "\n",
    "# create zeroed out array with the same size as the image\n",
    "import numpy \n",
    "img_array = numpy.zeros((image.size[1], image.size[0]))"
   ]
  },
  {
   "cell_type": "code",
   "execution_count": 19,
   "metadata": {},
   "outputs": [],
   "source": [
    "current_state = {\n",
    "    \"x\": graph.x,\n",
    "    \"edge_index\": graph.edge_index,\n",
    "    \"current_node\": 0,\n",
    "    \"valid_actions_mask\": torch.ones(4, dtype=torch.bool)\n",
    "}\n",
    "\n",
    "with torch.no_grad():\n",
    "    for current_node in range(graph.x.size(0)):\n",
    "\n",
    "        current_state[\"current_node\"] = current_node\n",
    "\n",
    "        cls_logits, nav_logits = agent.policy_net(current_state)\n",
    "        cls = cls_logits.argmax().item()\n",
    "\n",
    "        img_array[int(graph.x[current_node, 1].item()), int(graph.x[current_node, 0].item())] = cls\n",
    "\n"
   ]
  },
  {
   "cell_type": "code",
   "execution_count": 22,
   "metadata": {},
   "outputs": [
    {
     "data": {
      "text/plain": [
       "<matplotlib.image.AxesImage at 0x7fc851b6f910>"
      ]
     },
     "execution_count": 22,
     "metadata": {},
     "output_type": "execute_result"
    },
    {
     "data": {
      "image/png": "[encoded data removed]",
      "text/plain": [
       "<Figure size 640x480 with 1 Axes>"
      ]
     },
     "metadata": {},
     "output_type": "display_data"
    }
   ],
   "source": [
    "# display the image in grayscale\n",
    "import matplotlib.pyplot as plt\n",
    "plt.imshow(img_array, cmap=\"gray\")"
   ]
  },
  {
   "cell_type": "code",
   "execution_count": 28,
   "metadata": {},
   "outputs": [
    {
     "data": {
      "text/plain": [
       "2"
      ]
     },
     "execution_count": 28,
     "metadata": {},
     "output_type": "execute_result"
    }
   ],
   "source": [
    "len(set(img_array.flatten()))"
   ]
  },
  {
   "cell_type": "code",
   "execution_count": null,
   "metadata": {},
   "outputs": [],
   "source": []
  }
 ],
 "metadata": {
  "kernelspec": {
   "display_name": "maps",
   "language": "python",
   "name": "python3"
  },
  "language_info": {
   "codemirror_mode": {
    "name": "ipython",
    "version": 3
   },
   "file_extension": ".py",
   "mimetype": "text/x-python",
   "name": "python",
   "nbconvert_exporter": "python",
   "pygments_lexer": "ipython3",
   "version": "3.10.15"
  }
 },
 "nbformat": 4,
 "nbformat_minor": 2
}
